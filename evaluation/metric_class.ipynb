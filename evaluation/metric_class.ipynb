{
 "cells": [
  {
   "cell_type": "code",
   "execution_count": 1,
   "id": "cab530e6-e9cf-4007-9302-f010e00baaaa",
   "metadata": {},
   "outputs": [
    {
     "name": "stderr",
     "output_type": "stream",
     "text": [
      "/home/sslashinin/.conda/envs/llama_factory/lib/python3.10/site-packages/tqdm/auto.py:21: TqdmWarning: IProgress not found. Please update jupyter and ipywidgets. See https://ipywidgets.readthedocs.io/en/stable/user_install.html\n",
      "  from .autonotebook import tqdm as notebook_tqdm\n"
     ]
    }
   ],
   "source": [
    "import evaluate\n",
    "from datasets import load_dataset\n",
    "from evaluate import evaluator\n",
    "from transformers import AutoModelForSequenceClassification, pipeline"
   ]
  },
  {
   "cell_type": "code",
   "execution_count": 2,
   "id": "9396bfad-94aa-4376-a4e1-caa5a4c61127",
   "metadata": {},
   "outputs": [],
   "source": [
    "data = load_dataset(\"/home/sslashinin/kovakimyan/diploma/dataset/OxAISH-AL-LLM___wiki_toxic/\", split=\"test\")\n",
    "data = data.remove_columns([\"id\"])\n",
    "data = data.rename_column(\"comment_text\", \"text\")\n",
    "data = data.select(range(5000))"
   ]
  },
  {
   "cell_type": "code",
   "execution_count": 3,
   "id": "b94f2b9f-f965-406f-b3c7-ec825a223928",
   "metadata": {},
   "outputs": [
    {
     "data": {
      "text/plain": [
       "Dataset({\n",
       "    features: ['text', 'label'],\n",
       "    num_rows: 5000\n",
       "})"
      ]
     },
     "execution_count": 3,
     "metadata": {},
     "output_type": "execute_result"
    }
   ],
   "source": [
    "data"
   ]
  },
  {
   "cell_type": "code",
   "execution_count": 4,
   "id": "44a33227-7552-44aa-9000-6b217520c3c3",
   "metadata": {},
   "outputs": [],
   "source": [
    "task_evaluator = evaluator(\"text-classification\")"
   ]
  },
  {
   "cell_type": "code",
   "execution_count": 5,
   "id": "8812d5f6-02cc-4ef1-ba98-33c7c0e89ef9",
   "metadata": {},
   "outputs": [],
   "source": [
    "pipe = pipeline(\"text-classification\", model=\"facebook/roberta-hate-speech-dynabench-r4-target\", device=\"cuda\")"
   ]
  },
  {
   "cell_type": "code",
   "execution_count": 6,
   "id": "9bd03aac-224b-4d4b-b609-b12ebcd4f48d",
   "metadata": {},
   "outputs": [
    {
     "name": "stderr",
     "output_type": "stream",
     "text": [
      "Using the latest cached version of the module from /home/sslashinin/.cache/huggingface/modules/evaluate_modules/metrics/evaluate-metric--recall/e40e6e98d18ff3f210f4d0b26fa721bfaa80704b1fdf890fa551cfabf94fc185 (last modified on Wed May 15 21:15:11 2024) since it couldn't be found locally at evaluate-metric--recall, or remotely on the Hugging Face Hub.\n"
     ]
    },
    {
     "name": "stdout",
     "output_type": "stream",
     "text": [
      "{'accuracy': 0.9164, 'recall': 0.5658747300215983, 'precision': 0.5469728601252609, 'f1': 0.5562632696390658, 'total_time_in_seconds': 51.89447905682027, 'samples_per_second': 96.34936299341983, 'latency_in_seconds': 0.010378895811364055}\n"
     ]
    }
   ],
   "source": [
    "eval_results = task_evaluator.compute(\n",
    "    model_or_pipeline=pipe,\n",
    "    data=data,\n",
    "    metric=evaluate.combine([\"accuracy\", \"recall\", \"precision\", \"f1\"]),\n",
    "    label_mapping={\"nothate\": 0, \"hate\": 1}\n",
    ")\n",
    "print(eval_results)"
   ]
  },
  {
   "cell_type": "code",
   "execution_count": null,
   "id": "694e0b01-3468-4619-8f28-7d88b65edfa5",
   "metadata": {},
   "outputs": [],
   "source": []
  },
  {
   "cell_type": "code",
   "execution_count": null,
   "id": "6ff01d61-f39a-407f-95e1-0d90bdbf12f6",
   "metadata": {},
   "outputs": [],
   "source": []
  },
  {
   "cell_type": "code",
   "execution_count": 8,
   "id": "55fd6695-cca4-4114-bd7d-da5899878ecb",
   "metadata": {},
   "outputs": [],
   "source": [
    "pipe = pipeline(\"text-classification\", model=\"Hate-speech-CNERG/dehatebert-mono-english\")"
   ]
  },
  {
   "cell_type": "code",
   "execution_count": 9,
   "id": "5bd8c7ef-7936-4d51-b678-0888cdd04792",
   "metadata": {},
   "outputs": [
    {
     "name": "stdout",
     "output_type": "stream",
     "text": [
      "{'accuracy': 0.8878, 'recall': 0.5183585313174947, 'precision': 0.41522491349480967, 'f1': 0.4610951008645533, 'total_time_in_seconds': 2986.642623519525, 'samples_per_second': 1.6741206197974536, 'latency_in_seconds': 0.597328524703905}\n"
     ]
    }
   ],
   "source": [
    "eval_results = task_evaluator.compute(\n",
    "    model_or_pipeline=pipe,\n",
    "    data=data,\n",
    "    metric=evaluate.combine([\"accuracy\", \"recall\", \"precision\", \"f1\"]),\n",
    "    label_mapping={\"non-hateful\": 0, \"hateful\": 1}\n",
    ")\n",
    "print(eval_results)"
   ]
  },
  {
   "cell_type": "code",
   "execution_count": null,
   "id": "72727ee5-2a3b-496b-bf6f-aa1ddf94584b",
   "metadata": {},
   "outputs": [],
   "source": []
  },
  {
   "cell_type": "code",
   "execution_count": null,
   "id": "2c6db0a0-d96e-4c12-af43-07b99321c5b7",
   "metadata": {},
   "outputs": [],
   "source": []
  },
  {
   "cell_type": "code",
   "execution_count": 6,
   "id": "8635c722-c540-4fec-954b-69831fd31faf",
   "metadata": {},
   "outputs": [],
   "source": [
    "pipe = pipeline(\"text-classification\", model=\"/home/sslashinin/kovakimyan/diploma/hatespeech_detection_ft\")"
   ]
  },
  {
   "cell_type": "code",
   "execution_count": 7,
   "id": "d6888578-eb37-4db2-bb26-e971087bebe2",
   "metadata": {},
   "outputs": [
    {
     "name": "stdout",
     "output_type": "stream",
     "text": [
      "{'accuracy': 0.9618, 'recall': 0.7667386609071274, 'precision': 0.8105022831050228, 'f1': 0.7880133185349611, 'total_time_in_seconds': 5538.654063973576, 'samples_per_second': 0.9027463969130559, 'latency_in_seconds': 1.1077308127947152}\n"
     ]
    }
   ],
   "source": [
    "eval_results = task_evaluator.compute(\n",
    "    model_or_pipeline=pipe,\n",
    "    data=data,\n",
    "    metric=evaluate.combine([\"accuracy\", \"recall\", \"precision\", \"f1\"]),\n",
    "    label_mapping={\"Not_hate\": 0, \"Hate\": 1}\n",
    ")\n",
    "print(eval_results)"
   ]
  },
  {
   "cell_type": "code",
   "execution_count": null,
   "id": "b8984954-2338-4b8d-9a2c-98f13ffba833",
   "metadata": {},
   "outputs": [],
   "source": []
  }
 ],
 "metadata": {
  "kernelspec": {
   "display_name": "Python [.conda-llama_factory]",
   "language": "python",
   "name": "conda-env-.conda-llama_factory-py"
  },
  "language_info": {
   "codemirror_mode": {
    "name": "ipython",
    "version": 3
   },
   "file_extension": ".py",
   "mimetype": "text/x-python",
   "name": "python",
   "nbconvert_exporter": "python",
   "pygments_lexer": "ipython3",
   "version": "3.10.14"
  }
 },
 "nbformat": 4,
 "nbformat_minor": 5
}
